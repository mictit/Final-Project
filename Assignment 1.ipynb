{
 "cells": [
  {
   "cell_type": "markdown",
   "metadata": {
    "collapsed": true
   },
   "source": [
    "# ASSIGNMENT 1\n",
    "\n",
    "<img src=\"https://www.blazerexhibits.com/wp-content/uploads/2018/07/blazer-exhibits-custom-exhibit-booth-design.jpg\" width=\"400\" />\n",
    "\n",
    "\n",
    "## 1. Business Problem section\n",
    "\n",
    "\n",
    "### Background\n",
    "\n",
    "CarmenUp is a large company providing senior and elder care products for home health care equipment and assistive devices for aging parents and caregivers. The company is well established in Kansas and Nebraska states and now has identify a high potential of growth in the neighboring state of Colorado. The senior management of the company hires our services to plan a commercial expansion toward Colorado. Our main goal is to identify best potential location to set up comemrcial booths in Colorado with highest profiles to lead to increase in sales. \n",
    "\n",
    "### Business Problem\n",
    "\n",
    "In this scenario, it is urgent to adopt machine learning tools in order to assist stakeholders to make wise and effective decisions. As a result, the business problem we are currently posing is: how could we provide support to the executive team to choose the best mall locations to deploy CarmenUp comemrcial booths under viability and best valuation conditions?\n",
    "\n",
    "To solve this business problem, we are going to isolate Colorado's cities and neighboroods with wealthiest population and high potential of interest for CarmenUp products and services. Then, we will define a list of the closest public commercial malls to the best potential areas. Our final output will be a professional report with a recommendation to implement booths in the 20 best malls in Colorado.   \n",
    "\n",
    "## 2. Data section\n",
    "\n",
    "### Dataset on preferred socio-economic areas\n",
    "\n",
    "Data on households' income in State of Colorado were found on Golden Oak Research Group “U.S. Income Database Kaggle” website (https://www.kaggle.com/goldenoakresearch/us-household-income-stats-geo-locations/version/8). This dataset, originally developed for real estate and business investment research, includes income data of any given geographic location on a neighborhood scale in the US. The dataset contains alrge amount of data on income and geographic information.\n",
    "\n",
    "### Dataset on mall locations\n",
    "\n",
    "To explore and target recommended public malls to implement new booths, we will access data through FourSquare API interface and arrange them as a dataframe for visualization. By merging data on Colorado neighborhoods from Golden Oak Research Group dataset and data on nearest public malls to the preferred socio-economic areas from FourSquare API interface, we will be able to recommend most profitable mall locations in potential to implement new CarmenUp's commercial booths."
   ]
  },
  {
   "cell_type": "code",
   "execution_count": null,
   "metadata": {},
   "outputs": [],
   "source": []
  }
 ],
 "metadata": {
  "kernelspec": {
   "display_name": "Python 3.5",
   "language": "python",
   "name": "python3"
  },
  "language_info": {
   "codemirror_mode": {
    "name": "ipython",
    "version": 3
   },
   "file_extension": ".py",
   "mimetype": "text/x-python",
   "name": "python",
   "nbconvert_exporter": "python",
   "pygments_lexer": "ipython3",
   "version": "3.5.5"
  }
 },
 "nbformat": 4,
 "nbformat_minor": 1
}
